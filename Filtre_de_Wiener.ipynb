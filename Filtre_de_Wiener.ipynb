{
  "nbformat": 4,
  "nbformat_minor": 0,
  "metadata": {
    "colab": {
      "name": "Filtre de Wiener (Aloui-Barkia-Bouzid)-TNS.ipynb",
      "provenance": [],
      "toc_visible": true
    },
    "kernelspec": {
      "display_name": "Python 3",
      "language": "python",
      "name": "python3"
    },
    "language_info": {
      "codemirror_mode": {
        "name": "ipython",
        "version": 3
      },
      "file_extension": ".py",
      "mimetype": "text/x-python",
      "name": "python",
      "nbconvert_exporter": "python",
      "pygments_lexer": "ipython3",
      "version": "3.7.6"
    }
  },
  "cells": [
    {
      "cell_type": "markdown",
      "metadata": {
        "id": "o-OaDUR09It3"
      },
      "source": [
        "# Projet TNS - Filtre de Wienner\n",
        "\n",
        "Dand ce projet, on s'intéresse au débruitage de signaux alèatoires en utilisant un filtre de Wiener de type RIF"
      ]
    },
    {
      "cell_type": "code",
      "metadata": {
        "id": "vsMLVxYV9It5"
      },
      "source": [
        "#import imortant libraries \n",
        "import scipy as sp\n",
        "import numpy as np\n",
        "import scipy.signal as SIG\n",
        "from scipy.linalg import toeplitz,inv\n",
        "import random\n",
        "import matplotlib.pyplot as plt\n",
        "import IPython\n",
        "from scipy.io import wavfile"
      ],
      "execution_count": null,
      "outputs": []
    },
    {
      "cell_type": "markdown",
      "metadata": {
        "id": "JqYwawAY9It9"
      },
      "source": [
        "# Première Partie:"
      ]
    },
    {
      "cell_type": "markdown",
      "metadata": {
        "id": "kHJ7vus39It-"
      },
      "source": [
        "## Question 1:\n",
        "Rappeler la forme de $R$ et $p$\n",
        "<br>\n",
        "$R$: Matrice d'autocorrélation de signal d'entrée $x[n]$\n",
        "\\begin{equation*}\n",
        "R = E [x(n)x^T(n)]\n",
        "\\end{equation*}\n",
        "$p$: Vecteur d'intercorrélation entre la sortie désirée $d(n)$ et l'entrée $x(n)$\n",
        "\\begin{equation*}\n",
        "p = E[x(n)d(n)]\n",
        "\\end{equation*}"
      ]
    },
    {
      "cell_type": "markdown",
      "metadata": {
        "id": "iQQa-G_C9It-"
      },
      "source": [
        "\n",
        "## Question 2:\n",
        "Ecrire la sortie du filtre de Wiener optimal $\\hat{d}(n)$ en fonction de $h_{opt}$ et $x(n) =[x, ... , x(n − L + 1)]^T$\n",
        "<br>\n",
        "\\begin{equation*}\n",
        "\\hat{d}(n)=\\sum_{k=0}^{L-1} h_{opt,k} x_{n-k}\n",
        "\\end{equation*}"
      ]
    },
    {
      "cell_type": "markdown",
      "metadata": {
        "id": "CdktkPVV9It_"
      },
      "source": [
        "## Question 3:\n",
        "Pour l'application du filtrage de Wiener en débruitage, on a $x(n)= d(n) + u(n)$ avec $u(n)$ un bruit blanc, centre et de variance $\\sigma_u^2$\n",
        "<br>\n",
        "On peut décomposer $R$ en \n",
        "$R = R_d+R_u$, \n",
        "<br> Et $p= r_d(l) $ <br>avec \n",
        "$R_u= Diag (\\sigma_u^2,..,\\sigma_u^2)$"
      ]
    },
    {
      "cell_type": "markdown",
      "metadata": {
        "id": "hluJ2z0S9It_"
      },
      "source": [
        "## Question 4:\n",
        "\n",
        "Le rapport signal à bruit,après débruitage, est donné par:\n",
        "\\begin{equation*}\n",
        "RSB'_{db}=10  \\log_{10}{\\frac{E[d'^2(n)]}{E[b'^2(n)]}}\n",
        "\\end{equation*}\n",
        "Avec $d'(n)=h_{opt}(n) * d(n)$\n",
        "<br> et $u'(n) = h_{opt}(n) * u(n)$\n",
        "<br> On va exprimer $E[d'^2(n)]$ et $E[u'^2(n)]$\n",
        "<br> En ecriture matricielle , on aura  $E[d'^2(n)]= h_{opt}^T R_d  h_{opt}$  et   $E[u'^2(n)] = h_{opt}^T  R_u  h_{opt}$\n",
        "<br> D'ou le rapport signal à bruit après débruitage est : \n",
        "\\begin{equation*}\n",
        "RSB'_{db}=10  \\log_{10}{\\frac{h_{opt}^T  R_d  h_{opt}}{h_{opt}^T  R_u  h_{opt}}}\n",
        "\\end{equation*}"
      ]
    },
    {
      "cell_type": "markdown",
      "metadata": {
        "id": "Dwb_NzjJ9IuA"
      },
      "source": [
        "## Question 5:\n",
        "On a:\n",
        "<br>\n",
        "<br>\n",
        "$\n",
        "\\begin{equation}   \n",
        "\\begin{array}\n",
        "\\ J(h) \n",
        "& = E[(d(n)-h^T x(n))^2]\\\\\n",
        "& = E[d^2(n)]-2E[d(n)x^T(n)]h + h^T E[x(n)x^T(n)]h\\\\\n",
        "& = \\sigma_d^2-2p^Th+h^TRh\\\\\n",
        "\\end{array}\n",
        "\\end{equation}\n",
        "$\n",
        "<br>\n",
        "<br>\n",
        "A l'optimum, on a $h_{opt} = R^{-1}p$, donc\n",
        "<br>\n",
        "<br>\n",
        "$\n",
        "\\begin{equation}   \n",
        "\\begin{array}\n",
        "\\ J_{min} \n",
        "& = J(h_{opt})\\\\\n",
        "& = \\sigma_d^2-p^TR^{-1}p\\\\\n",
        "& = r_d(0)-h_{opt}^Tp\\\\\n",
        "\\end{array}\n",
        "\\end{equation}\n",
        "$"
      ]
    },
    {
      "cell_type": "markdown",
      "metadata": {
        "id": "JJ_pYtLc9IuA"
      },
      "source": [
        "# Deuxième partie: Implémentation"
      ]
    },
    {
      "cell_type": "markdown",
      "metadata": {
        "id": "5eTYSGDR9IuB"
      },
      "source": [
        "## Question 1:\n",
        "On va générer N échantillions d'un signal de référence d(n) \n",
        "\\begin{equation*} \n",
        "d(x)=sin(w_0*n+phi(n))\n",
        "\\end{equation*}\n"
      ]
    },
    {
      "cell_type": "code",
      "metadata": {
        "id": "iSUJ0Jb29IuB"
      },
      "source": [
        "N = 1000\n",
        "w0 = 0.05*np.pi\n",
        "random.seed(32)\n",
        "#Génération de 1000 points à partir d'un distrinution uniforme\n",
        "phi = np.random.uniform(0,2*np.pi,N)\n",
        "t = np.arange(0,N,1)\n",
        "d = np.sin(w0*t+0.1*phi)"
      ],
      "execution_count": null,
      "outputs": []
    },
    {
      "cell_type": "code",
      "metadata": {
        "id": "ACufg3AB9IuE",
        "outputId": "dfd5a922-6497-4a98-d5de-74760fb67fb1",
        "colab": {
          "base_uri": "https://localhost:8080/",
          "height": 282
        }
      },
      "source": [
        "plt.plot(d,label='d')"
      ],
      "execution_count": null,
      "outputs": [
        {
          "output_type": "execute_result",
          "data": {
            "text/plain": [
              "[<matplotlib.lines.Line2D at 0x7f838a5bff98>]"
            ]
          },
          "metadata": {
            "tags": []
          },
          "execution_count": 3
        },
        {
          "output_type": "display_data",
          "data": {
            "image/png": "[encoded data removed]",
            "text/plain": [
              "<Figure size 432x288 with 1 Axes>"
            ]
          },
          "metadata": {
            "tags": [],
            "needs_background": "light"
          }
        }
      ]
    },
    {
      "cell_type": "markdown",
      "metadata": {
        "id": "Um2gzKPe9IuH"
      },
      "source": [
        "## Question 2:\n",
        "Génération du signal bruité x(n) en utilisant un bruit blanc gaussien centré b(n)\n",
        "\\begin{equation*}\n",
        "x(n)=d(n)+b(n)\n",
        "\\end{equation*}"
      ]
    },
    {
      "cell_type": "code",
      "metadata": {
        "id": "_zLTtztP9IuI"
      },
      "source": [
        "b = ((0.1)**(0.5))*np.random.randn(N)\n",
        "# On additionne un bruit du au canal de transmission au signal d'origine\n",
        "x = b+d\n"
      ],
      "execution_count": null,
      "outputs": []
    },
    {
      "cell_type": "code",
      "metadata": {
        "id": "bdGCXIMd9IuK",
        "outputId": "776090d1-5072-41f2-cf3f-af36d452e8df",
        "colab": {
          "base_uri": "https://localhost:8080/",
          "height": 265
        }
      },
      "source": [
        "\n",
        "fig, ax = plt.subplots()\n",
        "ax.plot(x[:100],label=\"x[bruité]\")\n",
        "ax.plot(d[:100],label=\"d[reference]\")\n",
        "leg = ax.legend();"
      ],
      "execution_count": null,
      "outputs": [
        {
          "output_type": "display_data",
          "data": {
            "image/png": "[encoded data removed]",
            "text/plain": [
              "<Figure size 432x288 with 1 Axes>"
            ]
          },
          "metadata": {
            "tags": [],
            "needs_background": "light"
          }
        }
      ]
    },
    {
      "cell_type": "markdown",
      "metadata": {
        "id": "zwOfIjku9IuO"
      },
      "source": [
        "* Si on augmente la puissance de bruit le signal diverge"
      ]
    },
    {
      "cell_type": "markdown",
      "metadata": {
        "id": "A9s-mAkA9IuP"
      },
      "source": [
        "## Question 3:\n",
        "\n",
        "On va commencer par déterminer la matrice d'autocorrélation R et le vecteur dintercorrélkation entre d(n) et x(n) puisque on a les résultat suivant\n",
        "\\begin{equation*}\n",
        "h_{opt}=R^{-1}*p\n",
        "\\end{equation*}"
      ]
    },
    {
      "cell_type": "code",
      "metadata": {
        "id": "u9wgI4or9IuP"
      },
      "source": [
        "#Reshape x et d \n",
        "d = d.reshape(N)\n",
        "x = x.reshape(N)\n",
        "#Trouver l'inverse de R\n",
        "Auto = np.correlate(x,x,mode='full')\n",
        "Slice = Auto[999:1002]/(N-1)\n",
        "R = toeplitz(Slice)\n",
        "R_1 = inv(R)\n",
        "#Trouver p\n",
        "p = np.correlate(x,d,mode='full')\n",
        "p = p[999:1002]/(N-1)\n",
        "#Trouver h optimale\n",
        "hopt = np.dot(R_1,p)"
      ],
      "execution_count": null,
      "outputs": []
    },
    {
      "cell_type": "markdown",
      "metadata": {
        "id": "sd4CycmH9IuS"
      },
      "source": [
        "* On a trouvé une meilleure standardisation avec N-1 "
      ]
    },
    {
      "cell_type": "code",
      "metadata": {
        "id": "-CpMTqrt9IuS"
      },
      "source": [
        "Autod = np.correlate(d,d,mode='full')\n",
        "Sliced = Autod[999:1002]/(N-1)\n",
        "Rd = toeplitz(Sliced)"
      ],
      "execution_count": null,
      "outputs": []
    },
    {
      "cell_type": "code",
      "metadata": {
        "id": "xYI7ZBR09IuV",
        "outputId": "c4e1c2be-c751-452e-bfb5-8755b70ce085",
        "colab": {
          "base_uri": "https://localhost:8080/"
        }
      },
      "source": [
        "# Le vecteur solution du filtre qui minimise l'erreur quadratique \n",
        "hopt"
      ],
      "execution_count": null,
      "outputs": [
        {
          "output_type": "execute_result",
          "data": {
            "text/plain": [
              "array([0.48251857, 0.28041909, 0.18750896])"
            ]
          },
          "metadata": {
            "tags": []
          },
          "execution_count": 8
        }
      ]
    },
    {
      "cell_type": "code",
      "metadata": {
        "id": "j2WEaYFN9IuZ",
        "outputId": "2d64a081-705d-421c-b58f-c6e96666bd1b",
        "colab": {
          "base_uri": "https://localhost:8080/"
        }
      },
      "source": [
        "# Matrice d'autocorrélation\n",
        "R"
      ],
      "execution_count": null,
      "outputs": [
        {
          "output_type": "execute_result",
          "data": {
            "text/plain": [
              "array([[0.57692586, 0.44811896, 0.43736748],\n",
              "       [0.44811896, 0.57692586, 0.44811896],\n",
              "       [0.43736748, 0.44811896, 0.57692586]])"
            ]
          },
          "metadata": {
            "tags": []
          },
          "execution_count": 9
        }
      ]
    },
    {
      "cell_type": "code",
      "metadata": {
        "id": "_I6TE0lZ9Iuc",
        "outputId": "1a43146d-fc15-471d-cf33-8ef0089008eb",
        "colab": {
          "base_uri": "https://localhost:8080/"
        }
      },
      "source": [
        "#Vérification de l'inversibilité de R\n",
        "from numpy import linalg as LA\n",
        "W=LA.eig(R)\n",
        "W"
      ],
      "execution_count": null,
      "outputs": [
        {
          "output_type": "execute_result",
          "data": {
            "text/plain": [
              "(array([1.46601528, 0.13955838, 0.1252039 ]),\n",
              " array([[-5.75802945e-01, -7.07106781e-01,  4.10427787e-01],\n",
              "        [-5.80432543e-01, -9.72758317e-16, -8.14308334e-01],\n",
              "        [-5.75802945e-01,  7.07106781e-01,  4.10427787e-01]]))"
            ]
          },
          "metadata": {
            "tags": []
          },
          "execution_count": 10
        }
      ]
    },
    {
      "cell_type": "markdown",
      "metadata": {
        "id": "xI2xMsqU9Iue"
      },
      "source": [
        "Toutes les valeurs propres sont strictement positives donc la matrice est inversible"
      ]
    },
    {
      "cell_type": "markdown",
      "metadata": {
        "id": "z8Vf30xE9Iuf"
      },
      "source": [
        "## Question 4:\n",
        "On va générer la sortie du filtre de Wiener\n",
        "\\begin{equation*}\n",
        "\\hat{d}[n]=\\sum_{k=0}^{L-1} h_k x_{n-k}\n",
        "\\end{equation*}"
      ]
    },
    {
      "cell_type": "code",
      "metadata": {
        "id": "sS7xYE989Iuf"
      },
      "source": [
        "x_conv = np.reshape(x, x.size)\n",
        "hopt_conv = np.reshape(hopt, hopt.size)\n",
        "dhat = np.convolve(x_conv,hopt_conv,)"
      ],
      "execution_count": null,
      "outputs": []
    },
    {
      "cell_type": "code",
      "metadata": {
        "id": "UPmDOgZ-9Iui",
        "outputId": "63dbc830-ded7-4467-8944-2dea4b613246",
        "colab": {
          "base_uri": "https://localhost:8080/"
        }
      },
      "source": [
        "dhat.size"
      ],
      "execution_count": null,
      "outputs": [
        {
          "output_type": "execute_result",
          "data": {
            "text/plain": [
              "1002"
            ]
          },
          "metadata": {
            "tags": []
          },
          "execution_count": 12
        }
      ]
    },
    {
      "cell_type": "code",
      "metadata": {
        "id": "tQcdhhHj9Iuk"
      },
      "source": [
        "#On élimine les deux premières valeurs \n",
        "d_hat=dhat[2:]"
      ],
      "execution_count": null,
      "outputs": []
    },
    {
      "cell_type": "markdown",
      "metadata": {
        "id": "qK5S3rMz9Iun"
      },
      "source": [
        "$\\hat{d}$ est la sortie du filtre de Wiener"
      ]
    },
    {
      "cell_type": "markdown",
      "metadata": {
        "id": "Iocrou_Z9Iun"
      },
      "source": [
        "## Question 5:\n",
        "On va visulaiser $d'(n)$, $d(n)$ et $\\hat{d} (n)\\$"
      ]
    },
    {
      "cell_type": "code",
      "metadata": {
        "id": "1nU_snQ99Iuo",
        "outputId": "8eb637e9-890f-4195-ed7e-357f434ef966",
        "colab": {
          "base_uri": "https://localhost:8080/"
        }
      },
      "source": [
        "# On génère le signale bruité\n",
        "d_conv=np.reshape(d, d.size)\n",
        "debruite=np.convolve(hopt_conv,d_conv)\n",
        "#Visualisation\n",
        "\n",
        "fig, ax = plt.subplots()\n",
        "\n",
        "ax.plot(d[:100],color='blue',label='d');\n",
        "ax.plot(d_hat[:100],color='black',label=\"d_hat\");\n",
        "ax.plot(debruite[:100],color='green',label=\"signal_debruité\");\n",
        "\n",
        "leg = ax.legend();"
      ],
      "execution_count": null,
      "outputs": [
        {
          "output_type": "display_data",
          "data": {
            "image/png": "[encoded data removed]",
            "text/plain": [
              "<Figure size 432x288 with 1 Axes>"
            ]
          },
          "metadata": {
            "tags": [],
            "needs_background": "light"
          }
        }
      ]
    },
    {
      "cell_type": "markdown",
      "metadata": {
        "id": "KgNDPSN49Iur"
      },
      "source": [
        "* le signal de référence d et le signal debruite sont presque confondu, ce qui est cohérent avec notre modèle"
      ]
    },
    {
      "cell_type": "markdown",
      "metadata": {
        "id": "IvAAc9zV9Ius"
      },
      "source": [
        "## Question 6:\n",
        "Le rapport signal à bruit,avant débruitage, est donné par:\n",
        "\\begin{equation*}\n",
        "RSB_{db}=10  \\log_{10}{\\frac{E[d^2(n)]}{E[b^2(n)]}}\n",
        "\\end{equation*}\n",
        "Le rapport signal à bruit,après débruitage, est donné par:\n",
        "\\begin{equation*}\n",
        "RSB'_{db}=10  \\log_{10}{\\frac{E[d'^2(n)]}{E[b'^2(n)]}}\n",
        "\\end{equation*}\n",
        "\n",
        "Jmin se calcule par\n",
        "\\begin{equation*}\n",
        "J_{min}=r_d(0)-h_{opt}^{T}p\n",
        "\\end{equation*}"
      ]
    },
    {
      "cell_type": "code",
      "metadata": {
        "id": "VZRqwYUb9Iut",
        "outputId": "3b0fcbee-d0d6-4747-b4d6-74b84c91290e",
        "colab": {
          "base_uri": "https://localhost:8080/",
          "height": 51
        }
      },
      "source": [
        "b.reshape(N,1)\n",
        "b_conv = np.reshape(b, b.size)\n",
        "b_deb = np.convolve(hopt_conv,b_conv)\n",
        "# RSB aveant débruitage\n",
        "RSB = 10*np.log10(np.mean(np.square(d))/np.mean(np.square(b)))\n",
        "#RSB après débruitage\n",
        "RSBa = 10*np.log10(np.mean(np.square(debruite))/np.mean(np.square(b_deb)))\n",
        "print(\"RSB avant débruitage:\",RSB, \"et RSB' après débruitage:\",RSBa)\n",
        "\n",
        "#Caculer Jmin\n",
        "#calcul de Rd \n",
        "#AutoD = SIG.correlate2d(d,d)\n",
        "#SliceD = AutoD[999:1002]/AutoD.max()\n",
        "#Rd = toeplitz(SliceD)\n",
        "Jmin = Rd[0][0]-np.dot(np.transpose(hopt),p)\n",
        "print(\"Jmin = \",Jmin)"
      ],
      "execution_count": null,
      "outputs": [
        {
          "output_type": "stream",
          "text": [
            "RSB avant débruitage: 6.832872360477829 et RSB' après débruitage: 10.802873925090623\n",
            "Jmin =  0.05103879337837225\n"
          ],
          "name": "stdout"
        }
      ]
    },
    {
      "cell_type": "markdown",
      "metadata": {
        "id": "tQ3hPYFF9Iuw"
      },
      "source": [
        "* Le rapport signal à bruit mesure la variance relative du signal par rapport au bruit en décibel. Lorsque on diminue le bruit de phase la qualité de signal s'améliore.\n",
        "* La déconvolution de Wiener est une opération mathématique appliquant un filtre de Wiener pour éliminer ou atténuer une partie des bruits dans un signal. Elle opère dans le domaine fréquentiel en essayant de minimiser l'impact du bruit là où le rapport signal/bruit est mauvais. "
      ]
    },
    {
      "cell_type": "markdown",
      "metadata": {
        "id": "Tzye9bx39Iuw"
      },
      "source": [
        "## Question 7:"
      ]
    },
    {
      "cell_type": "code",
      "metadata": {
        "id": "24RMxuYa9Iuw",
        "scrolled": true,
        "outputId": "3de3ba21-b7cd-407b-8545-4727695eb1cc",
        "colab": {
          "base_uri": "https://localhost:8080/",
          "height": 279
        }
      },
      "source": [
        "RSBv = np.zeros(99)\n",
        "JMINv = np.zeros(99)\n",
        "List=[]\n",
        "x=np.reshape(x, x.size)\n",
        "d=np.reshape(d, d.size)\n",
        "Auto = np.correlate(x,x,mode='full')\n",
        "Autod = np.correlate(d,d,mode='full')\n",
        "for L in range(1,100,1):\n",
        "    #Trouver l'inverse de R\n",
        "    n1 =N-1 \n",
        "    n2 =N-1+L\n",
        "    Slice = Auto[n1:n2]/(N-1)\n",
        "    R = toeplitz(Slice)\n",
        "    R_1 = inv(R)\n",
        "    Sliced = Autod[n1:n2]/(N-1)\n",
        "    Rd = toeplitz(Sliced)\n",
        "    #p\n",
        "    p = np.correlate(x,d,mode='full')\n",
        "    p = p[n1:n2]/(N-1)\n",
        "    #Trouver h optimale\n",
        "    hopt = np.dot(R_1,p)\n",
        "    hopt_conv = np.reshape(hopt, hopt.size)\n",
        "    dhat = np.convolve(x_conv,hopt_conv,)\n",
        "    d_hat=dhat[L-1:]\n",
        "    d_conv=np.reshape(d, d.size)\n",
        "    debruite=np.convolve(hopt_conv,d_conv)\n",
        "    b_deb = np.convolve(hopt_conv,b_conv)\n",
        "    RSBa = 10*np.log10(np.mean(np.square(debruite))/np.mean(np.square(b_deb)))\n",
        "    Jmina = Rd[0][0]-np.dot(np.transpose(hopt),p)\n",
        "    JMINv[L-1]=Jmina\n",
        "    RSBv[L-1] = RSBa\n",
        "fig, ax = plt.subplots()\n",
        "\n",
        "ax.plot(RSBv,label=\"RSB\")\n",
        "plt.xlabel('Ordre du filtre [L]')\n",
        "plt.ylabel('RSB')\n",
        "\n",
        "leg = ax.legend();"
      ],
      "execution_count": null,
      "outputs": [
        {
          "output_type": "display_data",
          "data": {
            "image/png": "[encoded data removed]",
            "text/plain": [
              "<Figure size 432x288 with 1 Axes>"
            ]
          },
          "metadata": {
            "tags": [],
            "needs_background": "light"
          }
        }
      ]
    },
    {
      "cell_type": "markdown",
      "metadata": {
        "id": "HOIhR8Rj9Iuz"
      },
      "source": [
        "Lorsque l'ordre de filtre augmente, on augmente le rapport signal bruit donc amélioration de la qualité de note signal, mais en contre partie on a besoin  calculer plusieurs coefficients"
      ]
    },
    {
      "cell_type": "code",
      "metadata": {
        "id": "Opb7toXV9Iuz"
      },
      "source": [
        "#JMINv"
      ],
      "execution_count": null,
      "outputs": []
    },
    {
      "cell_type": "code",
      "metadata": {
        "id": "sGXtOfCB9Iu1",
        "outputId": "af049d95-ab8e-4015-d334-7b7f3e15aa34",
        "colab": {
          "base_uri": "https://localhost:8080/",
          "height": 279
        }
      },
      "source": [
        "\n",
        "fig, ax = plt.subplots()\n",
        "\n",
        "ax.plot(JMINv,label=\"Jmin\")\n",
        "plt.xlabel('Ordre du filtre [L]')\n",
        "plt.ylabel('Jmin')\n",
        "leg = ax.legend();"
      ],
      "execution_count": null,
      "outputs": [
        {
          "output_type": "display_data",
          "data": {
            "image/png": "[encoded data removed]",
            "text/plain": [
              "<Figure size 432x288 with 1 Axes>"
            ]
          },
          "metadata": {
            "tags": [],
            "needs_background": "light"
          }
        }
      ]
    },
    {
      "cell_type": "markdown",
      "metadata": {
        "id": "Dyih97bs9Iu3"
      },
      "source": [
        "De même l'erreur quadratique diminue, donc la reponse du filtre s'approche de plus en plus  vers le signal de réference. <br> \n",
        " On a remarqué que si on idmune le bruit de phase , on atteint une limite de convergence pour L élevée."
      ]
    },
    {
      "cell_type": "markdown",
      "metadata": {
        "id": "JcwRuwKK9Iu4"
      },
      "source": [
        "## Question 8:"
      ]
    },
    {
      "cell_type": "code",
      "metadata": {
        "id": "KwMGyQqt9qz_",
        "outputId": "1a1c446e-8fee-4502-be22-d903bf31b903",
        "colab": {
          "base_uri": "https://localhost:8080/",
          "height": 68
        }
      },
      "source": [
        "pip install soundfile"
      ],
      "execution_count": null,
      "outputs": [
        {
          "output_type": "stream",
          "text": [
            "Requirement already satisfied: soundfile in /usr/local/lib/python3.6/dist-packages (0.10.3.post1)\n",
            "Requirement already satisfied: cffi>=1.0 in /usr/local/lib/python3.6/dist-packages (from soundfile) (1.14.0)\n",
            "Requirement already satisfied: pycparser in /usr/local/lib/python3.6/dist-packages (from cffi>=1.0->soundfile) (2.20)\n"
          ],
          "name": "stdout"
        }
      ]
    },
    {
      "cell_type": "code",
      "metadata": {
        "id": "tswCC-x09Iu4"
      },
      "source": [
        "import soundfile as sf"
      ],
      "execution_count": null,
      "outputs": []
    },
    {
      "cell_type": "code",
      "metadata": {
        "id": "2kHNSDff9Iu6"
      },
      "source": [
        "#On commence par lire notre signal\n",
        "d=sf.read(\"jonasz_lucille_extrait.wav\")"
      ],
      "execution_count": null,
      "outputs": []
    },
    {
      "cell_type": "code",
      "metadata": {
        "id": "sEq8_y7e9Iu8"
      },
      "source": [
        "d,rate=d[0],d[1]"
      ],
      "execution_count": null,
      "outputs": []
    },
    {
      "cell_type": "code",
      "metadata": {
        "id": "T7reqJkM9Iu_",
        "outputId": "b41d03aa-01e5-4dfe-a601-0c630c9e2870",
        "colab": {
          "base_uri": "https://localhost:8080/",
          "height": 295
        }
      },
      "source": [
        "plt.plot(d)"
      ],
      "execution_count": null,
      "outputs": [
        {
          "output_type": "execute_result",
          "data": {
            "text/plain": [
              "[<matplotlib.lines.Line2D at 0x7f8386275e10>]"
            ]
          },
          "metadata": {
            "tags": []
          },
          "execution_count": 23
        },
        {
          "output_type": "display_data",
          "data": {
            "image/png": "[encoded data removed]",
            "text/plain": [
              "<Figure size 432x288 with 1 Axes>"
            ]
          },
          "metadata": {
            "tags": [],
            "needs_background": "light"
          }
        }
      ]
    },
    {
      "cell_type": "code",
      "metadata": {
        "id": "tPNHPcTs9IvC",
        "outputId": "2bb5e7c6-24b4-4244-fda5-dfbfb33ec72d",
        "colab": {
          "base_uri": "https://localhost:8080/",
          "height": 34
        }
      },
      "source": [
        "len(d)"
      ],
      "execution_count": null,
      "outputs": [
        {
          "output_type": "execute_result",
          "data": {
            "text/plain": [
              "1450001"
            ]
          },
          "metadata": {
            "tags": []
          },
          "execution_count": 24
        }
      ]
    },
    {
      "cell_type": "code",
      "metadata": {
        "id": "hw5n4vwF9IvE"
      },
      "source": [
        "#On va travailler sur une partie du signal\n",
        "N=int(len(d)/8)"
      ],
      "execution_count": null,
      "outputs": []
    },
    {
      "cell_type": "code",
      "metadata": {
        "id": "REJdNy509IvG"
      },
      "source": [
        "d=d[:int(N)]"
      ],
      "execution_count": null,
      "outputs": []
    },
    {
      "cell_type": "code",
      "metadata": {
        "id": "-ZtX6BZ79IvI",
        "outputId": "0db255b6-4ed6-4350-b3e7-baf65e1a589a",
        "colab": {
          "base_uri": "https://localhost:8080/",
          "height": 34
        }
      },
      "source": [
        "len(d)"
      ],
      "execution_count": null,
      "outputs": [
        {
          "output_type": "execute_result",
          "data": {
            "text/plain": [
              "181250"
            ]
          },
          "metadata": {
            "tags": []
          },
          "execution_count": 27
        }
      ]
    },
    {
      "cell_type": "code",
      "metadata": {
        "id": "eVOulXl_9IvM"
      },
      "source": [
        "b = 0.02*np.random.randn(N)\n",
        "x = b+d"
      ],
      "execution_count": null,
      "outputs": []
    },
    {
      "cell_type": "code",
      "metadata": {
        "id": "szGOxufk9IvO",
        "outputId": "591be9ba-6b97-4657-b36d-24c32403f92a",
        "colab": {
          "base_uri": "https://localhost:8080/",
          "height": 265
        }
      },
      "source": [
        "\n",
        "fig, ax = plt.subplots()\n",
        "ax.plot(x[:100],label=\"x[bruité]\")\n",
        "ax.plot(d[:100],label=\"d[reference]\")\n",
        "leg = ax.legend();"
      ],
      "execution_count": null,
      "outputs": [
        {
          "output_type": "display_data",
          "data": {
            "image/png": "[encoded data removed]",
            "text/plain": [
              "<Figure size 432x288 with 1 Axes>"
            ]
          },
          "metadata": {
            "tags": [],
            "needs_background": "light"
          }
        }
      ]
    },
    {
      "cell_type": "markdown",
      "metadata": {
        "id": "jHB-1Hlj9IvR"
      },
      "source": [
        "* On voit clairement l'effet du bruit additif sur le signal"
      ]
    },
    {
      "cell_type": "code",
      "metadata": {
        "id": "3S5GjLCv9IvR",
        "outputId": "e539bf20-181d-442c-a031-a0aceeaf66bb",
        "colab": {
          "base_uri": "https://localhost:8080/",
          "height": 34
        }
      },
      "source": [
        "N"
      ],
      "execution_count": null,
      "outputs": [
        {
          "output_type": "execute_result",
          "data": {
            "text/plain": [
              "181250"
            ]
          },
          "metadata": {
            "tags": []
          },
          "execution_count": 30
        }
      ]
    },
    {
      "cell_type": "code",
      "metadata": {
        "id": "fHZvLhzI9IvT"
      },
      "source": [
        "#Reshape x et d \n",
        "d = d.reshape(N,1)\n",
        "x = x.reshape(N,1)\n",
        "#Trouver l'inverse de R\n",
        "Auto = SIG.correlate2d(x,x)\n",
        "Slice = Auto[N-1:N+2]/(N-1)\n",
        "R = toeplitz(Slice)\n",
        "R_1 = inv(R)\n",
        "#Trouver p\n",
        "p = SIG.correlate2d(x,d)\n",
        "p = p[N-1:N+2]/(N-1)\n",
        "#Trouver h optimale\n",
        "hopt = np.dot(R_1,p)"
      ],
      "execution_count": null,
      "outputs": []
    },
    {
      "cell_type": "code",
      "metadata": {
        "id": "S8PmnxhO9IvV"
      },
      "source": [
        "AutoD = SIG.correlate2d(d,d)\n",
        "SliceD = AutoD[N-1:N+2]/(N-1)\n",
        "RD = toeplitz(SliceD)"
      ],
      "execution_count": null,
      "outputs": []
    },
    {
      "cell_type": "code",
      "metadata": {
        "id": "EepGfvJ79IvY",
        "outputId": "35a7e74c-f568-4bd1-ea75-7426197c322f",
        "colab": {
          "base_uri": "https://localhost:8080/",
          "height": 68
        }
      },
      "source": [
        "hopt"
      ],
      "execution_count": null,
      "outputs": [
        {
          "output_type": "execute_result",
          "data": {
            "text/plain": [
              "array([[0.56525295],\n",
              "       [0.266749  ],\n",
              "       [0.15495586]])"
            ]
          },
          "metadata": {
            "tags": []
          },
          "execution_count": 33
        }
      ]
    },
    {
      "cell_type": "code",
      "metadata": {
        "id": "5rLX2fpG9Iva"
      },
      "source": [
        "x_conv = np.reshape(x, x.size)\n",
        "hopt_conv = np.reshape(hopt, hopt.size)\n",
        "dhat = np.convolve(x_conv,hopt_conv,)"
      ],
      "execution_count": null,
      "outputs": []
    },
    {
      "cell_type": "code",
      "metadata": {
        "id": "V6Ap3uKV9Ivc"
      },
      "source": [
        "#On élimine les deux premières valeurs \n",
        "d_hat=dhat[2:]"
      ],
      "execution_count": null,
      "outputs": []
    },
    {
      "cell_type": "code",
      "metadata": {
        "id": "cy_rBVf49Ivf",
        "outputId": "24b37800-4b6f-4f86-ff35-40257f465826",
        "colab": {
          "base_uri": "https://localhost:8080/",
          "height": 265
        }
      },
      "source": [
        "# On génère le signale bruité\n",
        "d_conv=np.reshape(d, d.size)\n",
        "debruite=np.convolve(hopt_conv,d_conv)\n",
        "#Visualisation\n",
        "X_axis=np.arange(0,N)\n",
        "fig, ax = plt.subplots()\n",
        "\n",
        "ax.plot(d[:100],color='blue',label='d');\n",
        "ax.plot(d_hat[:100],color='black',label=\"d_hat\");\n",
        "ax.plot(debruite[:100],color='green',label=\"signal_debruité\");\n",
        "\n",
        "leg = ax.legend();"
      ],
      "execution_count": null,
      "outputs": [
        {
          "output_type": "display_data",
          "data": {
            "image/png": "[encoded data removed]",
            "text/plain": [
              "<Figure size 432x288 with 1 Axes>"
            ]
          },
          "metadata": {
            "tags": [],
            "needs_background": "light"
          }
        }
      ]
    },
    {
      "cell_type": "markdown",
      "metadata": {
        "id": "HNL7_PTP9Ivh"
      },
      "source": [
        "* le signal de référence d et le signal debruite sont presque confondu, ce qui est cohérent avec notre modèle"
      ]
    },
    {
      "cell_type": "code",
      "metadata": {
        "id": "-kWFzEgW9Ivh"
      },
      "source": [
        "data2 = np.asarray(debruite)\n"
      ],
      "execution_count": null,
      "outputs": []
    },
    {
      "cell_type": "code",
      "metadata": {
        "id": "QCGk7wfl9Ivk",
        "outputId": "c9dcbc3b-f018-40be-e937-8a9df182fba9",
        "colab": {
          "base_uri": "https://localhost:8080/",
          "height": 34
        }
      },
      "source": [
        "debruite.shape"
      ],
      "execution_count": null,
      "outputs": [
        {
          "output_type": "execute_result",
          "data": {
            "text/plain": [
              "(181252,)"
            ]
          },
          "metadata": {
            "tags": []
          },
          "execution_count": 38
        }
      ]
    },
    {
      "cell_type": "code",
      "metadata": {
        "id": "qyTqx2Vp9Ivm"
      },
      "source": [
        "wavfile.write(\"example.wav\", 44100, data2)"
      ],
      "execution_count": null,
      "outputs": []
    },
    {
      "cell_type": "code",
      "metadata": {
        "id": "2BfxxQYO9Ivp",
        "outputId": "93e89e59-c1a6-4c89-d28c-0b15bdac0dc7",
        "colab": {
          "base_uri": "https://localhost:8080/",
          "height": 51
        }
      },
      "source": [
        "b.reshape(N,1)\n",
        "b_conv = np.reshape(b, b.size)\n",
        "b_deb = np.convolve(hopt_conv,b_conv)\n",
        "# RSB aveant débruitage\n",
        "RSB = 10*np.log10(np.mean(np.square(d))/np.mean(np.square(b)))\n",
        "#RSB après débruitage\n",
        "RSBa = 10*np.log10(np.mean(np.square(debruite))/np.mean(np.square(b_deb)))\n",
        "print(\"RSB avant débruitage:\",RSB, \"et RSB' après débruitage:\",RSBa)\n",
        "\n",
        "#Caculer Jmin\n",
        "#calcul de Rd \n",
        "#AutoD = SIG.correlate2d(d,d)\n",
        "#SliceD = AutoD[999:1002]/AutoD.max()\n",
        "#Rd = toeplitz(SliceD)\n",
        "Jmin = RD[0][0]-np.dot(np.transpose(hopt),p)\n",
        "print(\"Jmin = \",Jmin)"
      ],
      "execution_count": null,
      "outputs": [
        {
          "output_type": "stream",
          "text": [
            "RSB avant débruitage: 14.41118665474647 et RSB' après débruitage: 18.06790325963451\n",
            "Jmin =  [[0.00022601]]\n"
          ],
          "name": "stdout"
        }
      ]
    },
    {
      "cell_type": "code",
      "metadata": {
        "id": "bYWimWF79Ivt",
        "outputId": "d254ea53-8b98-4190-95ee-d53536b3b17d",
        "colab": {
          "base_uri": "https://localhost:8080/",
          "height": 279
        }
      },
      "source": [
        "RSBv = np.zeros(99)\n",
        "JMINv = np.zeros(99)\n",
        "List=[]\n",
        "x=np.reshape(x, x.size)\n",
        "d=np.reshape(d, d.size)\n",
        "Auto = np.correlate(x,x,mode='full')\n",
        "for L in range(1,100,1):\n",
        "    #Trouver l'inverse de R\n",
        "    \n",
        "    n1 =N-1 \n",
        "    n2 =N-1+L\n",
        "    Slice = Auto[n1:n2]/(N-1)\n",
        "    SliceD = AutoD[n1:n2]/(N-1)\n",
        "    Rd = toeplitz(SliceD)\n",
        "    R = toeplitz(Slice)\n",
        "    R_1 = inv(R)\n",
        "    #Trouver p\n",
        "    List.append(np.linalg.det(R))\n",
        "    p = np.correlate(x,d,mode='full')\n",
        "    p = p[n1:n2]/(N-1)\n",
        "    #Trouver h optimale\n",
        "    hopt = np.dot(R_1,p)\n",
        "    hopt_conv = np.reshape(hopt, hopt.size)\n",
        "    dhat = np.convolve(x_conv,hopt_conv,)\n",
        "    d_hat=dhat[L-1:]\n",
        "    d_conv=np.reshape(d, d.size)\n",
        "    debruite=np.convolve(hopt_conv,d_conv)\n",
        "    b_deb = np.convolve(hopt_conv,b_conv)\n",
        "    RSBa = 10*np.log10(np.mean(np.square(debruite))/np.mean(np.square(b_deb)))\n",
        "    Jmina = Rd[0][0]-np.dot(np.transpose(hopt),p)\n",
        "    JMINv[L-1]=Jmina\n",
        "    RSBv[L-1] = RSBa\n",
        "    \n",
        "fig, ax = plt.subplots()\n",
        "\n",
        "ax.plot(RSBv,label=\"RSB\")\n",
        "plt.xlabel('Ordre du filtre [L]')\n",
        "plt.ylabel('RSB')\n",
        "\n",
        "leg = ax.legend();"
      ],
      "execution_count": null,
      "outputs": [
        {
          "output_type": "display_data",
          "data": {
            "image/png": "[encoded data removed]",
            "text/plain": [
              "<Figure size 432x288 with 1 Axes>"
            ]
          },
          "metadata": {
            "tags": [],
            "needs_background": "light"
          }
        }
      ]
    },
    {
      "cell_type": "markdown",
      "metadata": {
        "id": "9s70CZ4E9Ivw"
      },
      "source": [
        "Lorsque l'ordre de filtre augmente, on augmente le rapport signal bruit donc amélioration de la qualité de note signal, mais en contre partie on a besoin  calculer plusieurs coefficients"
      ]
    },
    {
      "cell_type": "code",
      "metadata": {
        "id": "2R_WuIys9Ivw",
        "outputId": "da20b391-0718-41cd-d575-d645be041480",
        "colab": {
          "base_uri": "https://localhost:8080/",
          "height": 279
        }
      },
      "source": [
        "\n",
        "fig, ax = plt.subplots()\n",
        "\n",
        "ax.plot(JMINv,label=\"Jmin\")\n",
        "plt.xlabel('Ordre du filtre [L]')\n",
        "plt.ylabel('Jmin')\n",
        "leg = ax.legend();"
      ],
      "execution_count": null,
      "outputs": [
        {
          "output_type": "display_data",
          "data": {
            "image/png": "[encoded data removed]",
            "text/plain": [
              "<Figure size 432x288 with 1 Axes>"
            ]
          },
          "metadata": {
            "tags": [],
            "needs_background": "light"
          }
        }
      ]
    },
    {
      "cell_type": "markdown",
      "metadata": {
        "id": "nuF2cWSX9Ivy"
      },
      "source": [
        "De même l'erreur quadratique diminue, donc le filtre s'approche de plus vers le signal de réference. mais la contributions des premiers coefficients est beaucoup plus importantes que le suivants."
      ]
    },
    {
      "cell_type": "markdown",
      "metadata": {
        "id": "mKYCHmnS9Ivz"
      },
      "source": [
        "## fenetrage 1"
      ]
    },
    {
      "cell_type": "markdown",
      "metadata": {
        "id": "rSPsb0-I9Ivz"
      },
      "source": [
        "On va refaire le même travail en travaillant sur des fenetres périodiques, ce qui nous ammène de la non stationarité du signal. "
      ]
    },
    {
      "cell_type": "code",
      "metadata": {
        "id": "hsIh9JWG9Ivz"
      },
      "source": [
        "List_x=[]\n",
        "List_d=[]\n",
        "List_b=[]\n",
        "for i in range(1324):\n",
        "    List_d.append(d[i*99:i*99+99])\n",
        "    List_x.append(x[i*99:i*99+99])\n",
        "    List_b.append(b[i*99:i*99+99])"
      ],
      "execution_count": null,
      "outputs": []
    },
    {
      "cell_type": "code",
      "metadata": {
        "id": "i1tYN1an9Iv1"
      },
      "source": [
        "List_RSB=[]\n",
        "List_RSBa=[]\n",
        "List_Jmin=[]\n",
        "H_opt_audio = np.array([])\n",
        "Dhat_audio = np.array([])\n",
        "List_Jmin = []\n",
        "rsb = []\n",
        "List_debruite= np.array([])\n",
        "for i in range(len(List_x)-1):\n",
        "    #Reshape x et d\n",
        "    List_d[i] = List_d[i].reshape(len(List_d[i]),1)\n",
        "    List_x[i] = List_x[i].reshape(len(List_x[i]),1)\n",
        "    #Trouver l'inverse de R\n",
        "    Auto = SIG.correlate2d(List_x[i],List_x[i])\n",
        "    AutoD = SIG.correlate2d(List_d[i],List_d[i])\n",
        "    Slice = Auto[len(List_d[i])-1:len(List_d[i])+2]/(N-1)\n",
        "    SliceD = AutoD[len(List_d[i])-1:len(List_d[i])+2]/(N-1)\n",
        "    R = toeplitz(Slice)\n",
        "    Rd = toeplitz(SliceD)\n",
        "    R_1 = inv(R)\n",
        "    #Trouver p\n",
        "    p = SIG.correlate2d(List_x[i],List_d[i])\n",
        "    p = p[len(List_d[i])-1:len(List_d[i])+2]/(N-1)\n",
        "    #Trouver h optimale\n",
        "    hopt = np.dot(R_1,p)\n",
        "    H_opt_audio = np.concatenate((H_opt_audio,hopt), axis=None)\n",
        "    \n",
        "    x_conv = np.reshape(List_x[i], List_x[i].size)\n",
        "    hopt_conv = np.reshape(hopt,hopt.size)\n",
        "    dhat = np.convolve(x_conv,hopt_conv,)\n",
        "    dhat=dhat[2:]\n",
        "    Dhat_audio = np.concatenate((Dhat_audio,dhat), axis=None)    \n",
        "    d_conv=np.reshape(List_d[i], List_d[i].size)\n",
        "    debruite=np.convolve(hopt_conv,d_conv)\n",
        "    debruite=debruite[2:]\n",
        "    List_debruite = np.concatenate((List_debruite,debruite), axis=None)\n",
        "    b_conv = np.reshape(List_b[i], List_b[i].size)\n",
        "    b_conv=np.reshape(len(b_conv),1)\n",
        "    b_deb = np.convolve(hopt_conv,b_conv)\n",
        "    # RSB aveant débruitage\n",
        "    RSB = 10*np.log10(np.mean(np.square(List_d[i]))/np.mean(np.square(List_b[i])))\n",
        "    #RSB après débruitage\n",
        "    RSBa = 10*np.log10(np.mean(np.square(List_debruite[i]))/np.mean(np.square(b_deb)))\n",
        "    List_RSB.append(RSB)\n",
        "    List_RSBa.append(RSBa)\n",
        "    Jmin = Rd[0][0]-np.dot(np.transpose(hopt),p)\n",
        "    List_Jmin.append(Jmin)"
      ],
      "execution_count": null,
      "outputs": []
    },
    {
      "cell_type": "code",
      "metadata": {
        "id": "cQFY7dLq9Iv3",
        "outputId": "b4293df5-0f07-4df3-ba8b-c69c7051f537",
        "colab": {
          "base_uri": "https://localhost:8080/",
          "height": 51
        }
      },
      "source": [
        "print(\"Jmin=\",np.mean(List_Jmin))\n",
        "print(\"la moyenne des RSBa localement est\",np.mean(R))"
      ],
      "execution_count": null,
      "outputs": [
        {
          "output_type": "stream",
          "text": [
            "Jmin= 1.0962776261960783e-07\n",
            "la moyenne des RSBa localement est 2.7960373793203983e-05\n"
          ],
          "name": "stdout"
        }
      ]
    },
    {
      "cell_type": "code",
      "metadata": {
        "id": "GTAcaSZG9Iv5",
        "outputId": "5cc60e12-db16-46c7-98cf-a89f38e4dc3c",
        "colab": {
          "base_uri": "https://localhost:8080/",
          "height": 34
        }
      },
      "source": [
        "RSB_d = 10*np.log10(np.mean(np.square(np.convolve(Dhat_audio, H_opt_audio))/\n",
        "                    (np.mean(np.square(np.convolve(b, H_opt_audio))))))\n",
        "print(RSB_d)"
      ],
      "execution_count": null,
      "outputs": [
        {
          "output_type": "stream",
          "text": [
            "23.30160323181008\n"
          ],
          "name": "stdout"
        }
      ]
    },
    {
      "cell_type": "markdown",
      "metadata": {
        "id": "wNmVh-kj_y14"
      },
      "source": [
        "Comme on peut clairement remarqué , en tenant compte de la stationnarité du signal , Jmin s'est amélioré de plus (1.0962776261960783e-07<0.00022601)et donc on s'approche de plus en plus du signal reference. En plus, le rapport bruit signal est maintenant de 23.3 > 18. Donc , en tennant compte de la stationnarité, nous avons obtenu une meilleur qualité de signal."
      ]
    }
  ]
}